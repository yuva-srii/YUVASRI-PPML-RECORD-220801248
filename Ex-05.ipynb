{
 "cells": [
  {
   "cell_type": "markdown",
   "id": "98c10623-8d17-4e2c-9b5a-448e5246dc70",
   "metadata": {},
   "source": [
    "# **Vehicle Performance Analysis using pandas**"
   ]
  },
  {
   "cell_type": "code",
   "execution_count": 2,
   "id": "9604d1c7-c421-4f3d-a315-f01f04f69cb4",
   "metadata": {},
   "outputs": [
    {
     "name": "stdout",
     "output_type": "stream",
     "text": [
      "       Make     Model  Fuel_Efficiency  Engine_Power_HP  Accelaration  Weight\n",
      "0  Mahindra      Thar               28              203           7.8    3200\n",
      "1      Tata     Punch               34              158           8.2    2700\n",
      "2    Toyota  Fortuner               20              325           6.5    4500\n",
      "3   Hyundai     Creta               18              355           6.0    5000\n",
      "4       BMW       XUV               24              285           5.2    4200\n"
     ]
    }
   ],
   "source": [
    "import pandas as pd\n",
    "data={\n",
    "    'Make': ['Mahindra','Tata','Toyota','Hyundai','BMW'],\n",
    "    'Model':['Thar','Punch','Fortuner','Creta','XUV'],\n",
    "    'Fuel_Efficiency':[28,34,20,18,24],\n",
    "    'Engine_Power_HP':[203,158,325,355,285],\n",
    "    'Accelaration':[7.8,8.2,6.5,6.0,5.2],\n",
    "    'Weight':[3200,2700,4500,5000,4200]\n",
    "}\n",
    "df=pd.DataFrame(data)\n",
    "print(df)"
   ]
  },
  {
   "cell_type": "code",
   "execution_count": 4,
   "id": "8ab2e13d-74ee-443f-9f8a-c9755e90d920",
   "metadata": {},
   "outputs": [
    {
     "name": "stdout",
     "output_type": "stream",
     "text": [
      "                 Fuel_Efficiency  Engine_Power_HP  Accelaration    Weight\n",
      "Fuel_Efficiency         1.000000        -0.987812      0.756380 -0.982041\n",
      "Engine_Power_HP        -0.987812         1.000000     -0.807749  0.997688\n",
      "Accelaration            0.756380        -0.807749      1.000000 -0.827715\n",
      "Weight                 -0.982041         0.997688     -0.827715  1.000000\n"
     ]
    }
   ],
   "source": [
    "#correlation matrix\n",
    "correlation = df[['Fuel_Efficiency','Engine_Power_HP','Accelaration','Weight']].corr()\n",
    "print(correlation)"
   ]
  },
  {
   "cell_type": "code",
   "execution_count": 5,
   "id": "9a7c1c3e-8024-4c00-a235-fc3b1d3f35d0",
   "metadata": {},
   "outputs": [
    {
     "name": "stdout",
     "output_type": "stream",
     "text": [
      "       Make     Model  Fuel_Efficiency  Engine_Power_HP  Accelaration  Weight  \\\n",
      "0  Mahindra      Thar               28              203           7.8    3200   \n",
      "1      Tata     Punch               34              158           8.2    2700   \n",
      "2    Toyota  Fortuner               20              325           6.5    4500   \n",
      "3   Hyundai     Creta               18              355           6.0    5000   \n",
      "4       BMW       XUV               24              285           5.2    4200   \n",
      "\n",
      "   Performance  Weight_Normal  \n",
      "0       212.64       0.217391  \n",
      "1       169.96       0.000000  \n",
      "2       331.70       0.782609  \n",
      "3       361.00       1.000000  \n",
      "4       293.56       0.652174  \n"
     ]
    }
   ],
   "source": [
    "#performance\n",
    "df['Performance']=0.4*df['Fuel_Efficiency']+df['Engine_Power_HP']-0.2*df['Accelaration']\n",
    "print(df)"
   ]
  },
  {
   "cell_type": "code",
   "execution_count": 6,
   "id": "e1c6b708-fbd9-4466-9cca-0a467ddd415e",
   "metadata": {},
   "outputs": [
    {
     "name": "stdout",
     "output_type": "stream",
     "text": [
      "      Make     Model  Fuel_Efficiency  Engine_Power_HP  Accelaration  Weight  \\\n",
      "3  Hyundai     Creta               18              355           6.0    5000   \n",
      "2   Toyota  Fortuner               20              325           6.5    4500   \n",
      "4      BMW       XUV               24              285           5.2    4200   \n",
      "\n",
      "   Performance  Weight_Normal  \n",
      "3       361.00       1.000000  \n",
      "2       331.70       0.782609  \n",
      "4       293.56       0.652174  \n"
     ]
    }
   ],
   "source": [
    "#top performing cars\n",
    "top=df.nlargest(3,'Performance')\n",
    "print(top)"
   ]
  },
  {
   "cell_type": "code",
   "execution_count": 7,
   "id": "adff4a6a-8641-41b6-93ba-f114e2f42be7",
   "metadata": {},
   "outputs": [
    {
     "name": "stdout",
     "output_type": "stream",
     "text": [
      "       Make     Model  Fuel_Efficiency  Engine_Power_HP  Accelaration  Weight  \\\n",
      "0  Mahindra      Thar               28              203           7.8    3200   \n",
      "1      Tata     Punch               34              158           8.2    2700   \n",
      "2    Toyota  Fortuner               20              325           6.5    4500   \n",
      "3   Hyundai     Creta               18              355           6.0    5000   \n",
      "4       BMW       XUV               24              285           5.2    4200   \n",
      "\n",
      "   Performance  Weight_Normal  \n",
      "0       212.64       0.217391  \n",
      "1       169.96       0.000000  \n",
      "2       331.70       0.782609  \n",
      "3       361.00       1.000000  \n",
      "4       293.56       0.652174  \n"
     ]
    }
   ],
   "source": [
    "#normalize weight adjustment\n",
    "df['Weight_Normal']=(df['Weight']-df['Weight'].min())/(df['Weight'].max()-df['Weight'].min())\n",
    "print(df)"
   ]
  },
  {
   "cell_type": "code",
   "execution_count": null,
   "id": "b6d14623-a3bb-415a-a826-b2b894c58349",
   "metadata": {},
   "outputs": [],
   "source": []
  }
 ],
 "metadata": {
  "kernelspec": {
   "display_name": "Python 3 (ipykernel)",
   "language": "python",
   "name": "python3"
  },
  "language_info": {
   "codemirror_mode": {
    "name": "ipython",
    "version": 3
   },
   "file_extension": ".py",
   "mimetype": "text/x-python",
   "name": "python",
   "nbconvert_exporter": "python",
   "pygments_lexer": "ipython3",
   "version": "3.11.7"
  }
 },
 "nbformat": 4,
 "nbformat_minor": 5
}
