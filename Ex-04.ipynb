{
 "cells": [
  {
   "cell_type": "markdown",
   "id": "fb9938ac-34d5-4b28-9fb4-b868a4f912d4",
   "metadata": {},
   "source": [
    "# **Write a program to find minimum of function f (x, y)=x2+y2+4 using gradient descent algorithm**"
   ]
  },
  {
   "cell_type": "code",
   "execution_count": 6,
   "id": "89afc202-874e-48a9-939d-753613bd18d0",
   "metadata": {},
   "outputs": [
    {
     "name": "stdout",
     "output_type": "stream",
     "text": [
      "0.8 1.6\n",
      "0.64 1.28\n",
      "0.512 1.024\n",
      "0.4096 0.8192\n",
      "0.32768 0.65536\n",
      "0.26214400000000004 0.5242880000000001\n",
      "0.20971520000000005 0.4194304000000001\n",
      "0.16777216000000003 0.33554432000000006\n",
      "0.13421772800000004 0.26843545600000007\n",
      "0.10737418240000003 0.21474836480000006\n",
      "Minimum point =  0.10737418240000003 0.21474836480000006\n",
      "Minimum value of f(x,y): 4.057646075230342\n"
     ]
    }
   ],
   "source": [
    "import numpy as np\n",
    "def f(x,y):\n",
    "   return x**2+y**2+4\n",
    "def gradient_f(x,y):\n",
    "   grad_x=2*x\n",
    "   grad_y=2*y\n",
    "   return np.array([grad_x,grad_y])\n",
    "def gradient_descent(learningrate,iterations):\n",
    "   x,y=1.0,2.0\n",
    "   for i in range(iterations):\n",
    "       grad=gradient_f(x,y)\n",
    "       x-=learningrate*grad[0]\n",
    "       y-=learningrate*grad[1]\n",
    "       print(x,y)\n",
    "   return x,y\n",
    "learningrate=0.1\n",
    "iterations=10\n",
    "min_x,min_y=gradient_descent(learningrate,iterations)\n",
    "print(\"Minimum point = \",min_x,min_y)\n",
    "print(\"Minimum value of f(x,y):\",f(min_x,min_y))"
   ]
  },
  {
   "cell_type": "code",
   "execution_count": null,
   "id": "301c4a8a-f39f-4baf-a475-6c8b10007e37",
   "metadata": {},
   "outputs": [],
   "source": []
  }
 ],
 "metadata": {
  "kernelspec": {
   "display_name": "Python 3 (ipykernel)",
   "language": "python",
   "name": "python3"
  },
  "language_info": {
   "codemirror_mode": {
    "name": "ipython",
    "version": 3
   },
   "file_extension": ".py",
   "mimetype": "text/x-python",
   "name": "python",
   "nbconvert_exporter": "python",
   "pygments_lexer": "ipython3",
   "version": "3.11.7"
  }
 },
 "nbformat": 4,
 "nbformat_minor": 5
}
