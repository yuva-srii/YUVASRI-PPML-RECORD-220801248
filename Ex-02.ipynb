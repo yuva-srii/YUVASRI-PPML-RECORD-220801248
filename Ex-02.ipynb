{
 "cells": [
  {
   "cell_type": "markdown",
   "id": "95ae4697-3223-458b-a5c9-49570fa79d63",
   "metadata": {},
   "source": [
    "# **Calculating values of random data using NumPy for mathematical formulas 1)Euclidean distance between two points 2) Dot Product of two Vectors 3)Solving a System of Linear Equations**"
   ]
  },
  {
   "cell_type": "markdown",
   "id": "a480b9bb-9c0c-4854-a483-74ef93d23daf",
   "metadata": {},
   "source": [
    "## **1)Euclidean distance between two points**"
   ]
  },
  {
   "cell_type": "code",
   "execution_count": 2,
   "id": "2cbc6ee0-21df-4e31-ac7b-b2b711cfa429",
   "metadata": {},
   "outputs": [],
   "source": [
    "import numpy as np"
   ]
  },
  {
   "cell_type": "code",
   "execution_count": 4,
   "id": "bbb3d3ad-41b4-4f15-b71d-7778cf57a5b2",
   "metadata": {},
   "outputs": [
    {
     "name": "stdin",
     "output_type": "stream",
     "text": [
      " 1\n",
      " 2\n",
      " 3\n",
      " 4\n"
     ]
    },
    {
     "name": "stdout",
     "output_type": "stream",
     "text": [
      "1.4142135623730951\n"
     ]
    }
   ],
   "source": [
    "x1=int(input())\n",
    "x2=int(input())\n",
    "y1=int(input())\n",
    "y2=int(input())\n",
    "point1=np.array([x1,y1])\n",
    "point2=np.array([x2,y2])\n",
    "d=np.power(point2-point1,2)\n",
    "euclidean_distance=np.sqrt(np.sum(d))\n",
    "print(euclidean_distance)"
   ]
  },
  {
   "cell_type": "markdown",
   "id": "58570426-c69b-422c-aebb-b42294a85bf2",
   "metadata": {},
   "source": [
    "## **2) Calculating the Dot Product of Two Vectors**"
   ]
  },
  {
   "cell_type": "code",
   "execution_count": 5,
   "id": "6156a835-4970-4d5f-b632-e9555b761957",
   "metadata": {},
   "outputs": [
    {
     "name": "stdout",
     "output_type": "stream",
     "text": [
      "14\n"
     ]
    }
   ],
   "source": [
    "import numpy as np\n",
    "c=np.array([2,4])\n",
    "d=np.array([1,3])\n",
    "print(c.dot(d))"
   ]
  },
  {
   "cell_type": "markdown",
   "id": "cb622b98-44e3-48b3-aeb3-1736bace5486",
   "metadata": {},
   "source": [
    "## **3) Solving a system of linear equations**"
   ]
  },
  {
   "cell_type": "code",
   "execution_count": 6,
   "id": "067e7454-f41a-4c93-bf27-ff11a51254a2",
   "metadata": {},
   "outputs": [
    {
     "name": "stdout",
     "output_type": "stream",
     "text": [
      "[  9. -10.]\n"
     ]
    }
   ],
   "source": [
    "a=np.array([[2,1],[1,1]])\n",
    "b=np.array([8,-1])\n",
    "a_inv=np.linalg.inv(a)\n",
    "x=np.dot(a_inv,b)\n",
    "print(x)\n"
   ]
  },
  {
   "cell_type": "code",
   "execution_count": null,
   "id": "179ea5c2-a138-44e9-8180-5aad98647d5d",
   "metadata": {},
   "outputs": [],
   "source": []
  }
 ],
 "metadata": {
  "kernelspec": {
   "display_name": "Python 3 (ipykernel)",
   "language": "python",
   "name": "python3"
  },
  "language_info": {
   "codemirror_mode": {
    "name": "ipython",
    "version": 3
   },
   "file_extension": ".py",
   "mimetype": "text/x-python",
   "name": "python",
   "nbconvert_exporter": "python",
   "pygments_lexer": "ipython3",
   "version": "3.11.7"
  }
 },
 "nbformat": 4,
 "nbformat_minor": 5
}
